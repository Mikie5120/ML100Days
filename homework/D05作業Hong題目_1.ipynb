{
 "cells": [
  {
   "cell_type": "markdown",
   "metadata": {
    "id": "oef8c2jr-PZY"
   },
   "source": [
    "作業目標<br>\n",
    "計算有缺失值的資料，統計量實作<br>\n",
    "作業重點<br>\n",
    "當遇到缺失值有函式可以處理，不須額外寫程式刪除<br>\n",
    "計算統計量時不能出現缺失值"
   ]
  },
  {
   "cell_type": "markdown",
   "metadata": {
    "id": "4YgL8NF4-Ru3"
   },
   "source": [
    "題目:<br>\n",
    "english_score = np.array([55,89,76,65,48,70])<br>\n",
    "math_score = np.array([60,85,60,68,np.nan,60])<br>\n",
    "chinese_score = np.array([65,90,82,72,66,77])<br>\n",
    "上3列共六位同學的英文、數學、國文成績，第一個元素代表第一位同學，舉例第一位同學英文55分、數學60分、國文65分，今天第五位同學因某原因沒來考試，導致數學成績缺值，運用上列數據回答下列問題。<br>\n",
    "1. 請計算各科成績平均、最大值、最小值、標準差，其中數學缺一筆資料可忽略?\n",
    "2. 第五位同學補考數學後成績為55，請計算補考後數學成績平均、最大值、最小值、標準差?\n",
    "3. 用補考後資料找出與國文成績相關係數最高的學科?"
   ]
  },
  {
   "cell_type": "code",
   "execution_count": 2,
   "metadata": {
    "executionInfo": {
     "elapsed": 617,
     "status": "ok",
     "timestamp": 1609854566856,
     "user": {
      "displayName": "献竤黃",
      "photoUrl": "",
      "userId": "07529243043474362942"
     },
     "user_tz": -480
    },
    "id": "QwsKU8qO-RK7"
   },
   "outputs": [],
   "source": [
    "import numpy as np"
   ]
  },
  {
   "cell_type": "code",
   "execution_count": 3,
   "metadata": {
    "executionInfo": {
     "elapsed": 1016,
     "status": "ok",
     "timestamp": 1609854567261,
     "user": {
      "displayName": "献竤黃",
      "photoUrl": "",
      "userId": "07529243043474362942"
     },
     "user_tz": -480
    },
    "id": "B5BqDQAe_czh"
   },
   "outputs": [],
   "source": [
    "english_score = np.array([55,89,76,65,48,70])\n",
    "math_score = np.array([60,85,60,68,np.nan,60])\n",
    "chinese_score = np.array([65,90,82,72,66,77])"
   ]
  },
  {
   "cell_type": "code",
   "execution_count": 4,
   "metadata": {
    "executionInfo": {
     "elapsed": 1005,
     "status": "ok",
     "timestamp": 1609854567262,
     "user": {
      "displayName": "献竤黃",
      "photoUrl": "",
      "userId": "07529243043474362942"
     },
     "user_tz": -480
    },
    "id": "K3tUA6u9aI3N"
   },
   "outputs": [
    {
     "name": "stdout",
     "output_type": "stream",
     "text": [
      "english平均值:67.16666666666667\n",
      "math平均值:66.6\n",
      "chinese平均值:75.33333333333333\n",
      "==============================\n",
      "english最大值:89\n",
      "math最大值:85.0\n",
      "chinese最大值:90\n",
      "==============================\n",
      "english最小值:48\n",
      "math最小值:60.0\n",
      "chinese最小值:65\n",
      "==============================\n",
      "english標準差:13.433995020924426\n",
      "math標準差:9.707728879609279\n",
      "chinese標準差:8.825468196582484\n"
     ]
    }
   ],
   "source": [
    "#1. 請計算各科成績平均、最大值、最小值、標準差，其中數學缺一筆資料可忽略?np.amax(english_score)\n",
    "eng_mean=np.mean(english_score)\n",
    "math_mean=np.nanmean(math_score)\n",
    "ch_mean=np.mean(chinese_score)\n",
    "print(f'english平均值:{eng_mean}')\n",
    "print(f'math平均值:{math_mean}')\n",
    "print(f'chinese平均值:{ch_mean}')\n",
    "print(\"==============================\")\n",
    "#最大值\n",
    "eng_max=np.amax(english_score)\n",
    "math_max=np.nanmax(math_score)\n",
    "ch_max=np.amax(chinese_score)\n",
    "print(f'english最大值:{eng_max}')\n",
    "print(f'math最大值:{math_max}')\n",
    "print(f'chinese最大值:{ch_max}')\n",
    "print(\"==============================\")\n",
    "#最小值\n",
    "eng_min=np.amin(english_score)\n",
    "math_min=np.nanmin(math_score)\n",
    "ch_min=np.amin(chinese_score)\n",
    "print(f'english最小值:{eng_min}')\n",
    "print(f'math最小值:{math_min}')\n",
    "print(f'chinese最小值:{ch_min}')\n",
    "print(\"==============================\")\n",
    "#標準差\n",
    "eng_std=np.std(english_score)\n",
    "math_std=np.nanstd(math_score)\n",
    "ch_std=np.std(chinese_score)\n",
    "print(f'english標準差:{eng_std}')\n",
    "print(f'math標準差:{math_std}')\n",
    "print(f'chinese標準差:{ch_std}')\n"
   ]
  },
  {
   "cell_type": "code",
   "execution_count": 5,
   "metadata": {
    "executionInfo": {
     "elapsed": 996,
     "status": "ok",
     "timestamp": 1609854567262,
     "user": {
      "displayName": "献竤黃",
      "photoUrl": "",
      "userId": "07529243043474362942"
     },
     "user_tz": -480
    },
    "id": "mXjDzvSrbLlf"
   },
   "outputs": [
    {
     "name": "stdout",
     "output_type": "stream",
     "text": [
      "[60. 85. 60. 68. 55. 60.]\n",
      "math平均值:64.66666666666667\n",
      "math最大值:85.0\n",
      "math最小值:55.0\n",
      "math標準差:9.860132971832694\n"
     ]
    }
   ],
   "source": [
    "#2. 第五位同學補考數學後成績為55，請計算補考後數學成績平均、最大值、最小值、標準差?\n",
    "math_score[-2]=55\n",
    "print(math_score)\n",
    "math_mean=np.mean(math_score)\n",
    "math_max=np.amax(math_score)\n",
    "math_min=np.min(math_score)\n",
    "math_std=np.std(math_score)\n",
    "print(f'math平均值:{math_mean}')\n",
    "print(f'math最大值:{math_max}')\n",
    "print(f'math最小值:{math_min}')\n",
    "print(f'math標準差:{math_std}')\n",
    "\n",
    "\n"
   ]
  },
  {
   "cell_type": "code",
   "execution_count": 6,
   "metadata": {
    "executionInfo": {
     "elapsed": 989,
     "status": "ok",
     "timestamp": 1609854567264,
     "user": {
      "displayName": "献竤黃",
      "photoUrl": "",
      "userId": "07529243043474362942"
     },
     "user_tz": -480
    },
    "id": "SaGolKx0cKoU"
   },
   "outputs": [
    {
     "name": "stdout",
     "output_type": "stream",
     "text": [
      "[[65 90 82 72 66 77]\n",
      " [55 89 76 65 48 70]]\n",
      "[[65. 90. 82. 72. 66. 77.]\n",
      " [60. 85. 60. 68. 55. 60.]]\n",
      "chinese_english相關係數:0.9779282830211268\n",
      "chinese_math相關係數:0.740568027023363\n",
      "國文成績相關係數最高的學科是英文\n"
     ]
    }
   ],
   "source": [
    "#3. 用補考後資料找出與國文成績相關係數最高的學科?\n",
    "# 兩個行向量拼接到一起，形成一個2*6的矩陣\n",
    "chinese_english = np.r_[chinese_score, english_score].reshape(2,6)\n",
    "chinese_math = np.r_[chinese_score, math_score].reshape(2,6)\n",
    "print(chinese_english)\n",
    "print(chinese_math)\n",
    "\n",
    "c_c_e = np.corrcoef(chinese_english)[0,1]\n",
    "print(f'chinese_english相關係數:{c_c_e}')\n",
    "c_c_m = np.corrcoef(chinese_math)[0,1]\n",
    "print(f'chinese_math相關係數:{c_c_m}')\n",
    "if c_c_e > c_c_m:\n",
    "    print(\"國文成績相關係數最高的學科是英文\")\n",
    "else:\n",
    "    print(\"國文成績相關係數最高的學科是數學\")\n"
   ]
  },
  {
   "cell_type": "code",
   "execution_count": 63,
   "metadata": {},
   "outputs": [
    {
     "name": "stdout",
     "output_type": "stream",
     "text": [
      "[[   1    3  564  675 6567]]\n",
      "[[     1      3    564    675   6567]\n",
      " [     1      3 555555    675   6567]]\n",
      "[[    1     3   564   675  6567]\n",
      " [    6    10  1132  1354 13138]]\n",
      "-0.18724527057600632\n",
      "1.0\n"
     ]
    }
   ],
   "source": [
    "# x是一個行向量\n",
    "x = np.array([1, 3, 564, 675, 6567]).reshape(1, -1)\n",
    "print(x)\n",
    "\n",
    "# y1、y2都是行向量\n",
    "y1 = np.array([1, 3, 555555, 675, 6567]).reshape(1, -1)\n",
    "y2 = 2*x+4\n",
    "\n",
    "# 兩個行向量拼接到一起，形成一個兩行的矩陣\n",
    "x_y1 = np.r_[x, y1]\n",
    "x_y2 = np.r_[x, y2]\n",
    "print(x_y1)\n",
    "print(x_y2)\n",
    "\n",
    "# 注意使用np.corrcoef求相關係數時\n",
    "# 求取得到的是任意兩行的相關係數構成的相關係數矩陣\n",
    "# 所以一定要把想求的兩個向量分別放在不同的行，而不是列\n",
    "c_x_y1 = np.corrcoef(x_y1)[0, 1]\n",
    "print(c_x_y1)\n",
    "\n",
    "# 由於y2 = 2*x+4，相關係數c_x_y2必定等於1\n",
    "c_x_y2 = np.corrcoef(x_y2)[0, 1]\n",
    "print(c_x_y2)"
   ]
  },
  {
   "cell_type": "code",
   "execution_count": 5,
   "metadata": {
    "executionInfo": {
     "elapsed": 987,
     "status": "ok",
     "timestamp": 1609854567264,
     "user": {
      "displayName": "献竤黃",
      "photoUrl": "",
      "userId": "07529243043474362942"
     },
     "user_tz": -480
    },
    "id": "fTNlLZ9Pzyiy"
   },
   "outputs": [],
   "source": []
  }
 ],
 "metadata": {
  "colab": {
   "authorship_tag": "ABX9TyPtywwDR7TsGGEOMGYLDT5h",
   "collapsed_sections": [],
   "name": "作業Hong題目.ipynb",
   "provenance": []
  },
  "kernelspec": {
   "display_name": "Python 3",
   "language": "python",
   "name": "python3"
  },
  "language_info": {
   "codemirror_mode": {
    "name": "ipython",
    "version": 3
   },
   "file_extension": ".py",
   "mimetype": "text/x-python",
   "name": "python",
   "nbconvert_exporter": "python",
   "pygments_lexer": "ipython3",
   "version": "3.8.5"
  }
 },
 "nbformat": 4,
 "nbformat_minor": 1
}
